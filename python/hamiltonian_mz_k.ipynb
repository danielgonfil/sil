{
 "cells": [
  {
   "cell_type": "code",
   "execution_count": 1,
   "id": "6ef29426",
   "metadata": {},
   "outputs": [],
   "source": [
    "import serial, random, matplotlib.pyplot as plt\n",
    "from time import time_ns\n",
    "from scipy.sparse import lil_matrix\n",
    "import numpy as np\n",
    "np.set_printoptions(precision=3)\n",
    "plt.rcParams.update({'font.family': 'serif', 'font.serif': ['Times New Roman']})"
   ]
  },
  {
   "cell_type": "code",
   "execution_count": null,
   "id": "994a088e",
   "metadata": {},
   "outputs": [],
   "source": [
    "ser = serial.Serial('COM4', 9600, timeout = 0.1)"
   ]
  },
  {
   "cell_type": "markdown",
   "id": "c66c4047",
   "metadata": {},
   "source": [
    "### Helper functions\n",
    "\n",
    "Bitwise operations used in the Hamiltonian generation."
   ]
  },
  {
   "cell_type": "code",
   "execution_count": 3,
   "id": "20d1aa53",
   "metadata": {},
   "outputs": [],
   "source": [
    "def flip(x, i, j):\n",
    "    return x ^ ((1 << i) | (1 << j))\n",
    "\n",
    "def get_spin(x, i):\n",
    "    return (x >> i) & 1\n",
    "\n",
    "def shift(x, N, k = 1): # k = number of steps to shift by\n",
    "    return ((x << k) | (x >> (N - k))) & ((1 << N) - 1)\n",
    "\n",
    "def findstate(basis, state):\n",
    "    # can be implemented explicitely using binary search for example\n",
    "    return basis.index(state) if state in basis else -1\n",
    "\n",
    "def sum_bits(x):\n",
    "    return bin(x).count('1')"
   ]
  },
  {
   "cell_type": "markdown",
   "id": "d6981881",
   "metadata": {},
   "source": [
    "### Non FPGA functions"
   ]
  },
  {
   "cell_type": "code",
   "execution_count": 4,
   "id": "1a562dea",
   "metadata": {},
   "outputs": [],
   "source": [
    "def checkstate_k(s, N, k):\n",
    "    t = s\n",
    "\n",
    "    for i in range(1, N+1):\n",
    "        t = shift(t, N)\n",
    "        if t < s: return -1 # if a smaller state is found, s is not the representative, return -1\n",
    "        elif t == s: # after i shifts, back to original state\n",
    "            if k % (N // i) != 0:  return -1 # momentum k INcompatible with periodicity i (R = i the periodicity)\n",
    "            else: return i # R = i, compatible with periodicity i\n",
    "    \n",
    "    return -1 # periodicity not compatible with k\n",
    "\n",
    "def representative_k(s, N, k):\n",
    "    # find the representative of the state s, which is the smallest state that can be obtained by translating\n",
    "    r = s\n",
    "    t = s\n",
    "    l = 0\n",
    "    for i in range(1, N+1):\n",
    "        t = shift(t, N)\n",
    "        if t < r: \n",
    "            r = t\n",
    "            l = i\n",
    "    \n",
    "    return r, l # representative, number of translations"
   ]
  },
  {
   "cell_type": "markdown",
   "id": "c0b725c0",
   "metadata": {},
   "source": [
    "### FPGA functions\n",
    "Remember that the FPGA must be reprogrammed for each different N."
   ]
  },
  {
   "cell_type": "code",
   "execution_count": 20,
   "id": "b9cd8785",
   "metadata": {},
   "outputs": [],
   "source": [
    "def fpga(ser, N, x):\n",
    "    # send state x and receive answer on uart to fpga\n",
    "    \n",
    "    # prepare message\n",
    "    msg = x.to_bytes((N + 7) // 8, byteorder='big') # convert to bytes\n",
    "\n",
    "    # send message\n",
    "    ser.reset_input_buffer()  # Clear the input buffer\n",
    "    ser.reset_output_buffer()  # Clear the output buffer\n",
    "    ser.write(msg)\n",
    "\n",
    "    # receive data\n",
    "    l = int.from_bytes(ser.read(1), byteorder='big') # read(1) to read only one byte, this is all the fpga transmits\n",
    "    r = shift(x, N, l)\n",
    "    # print(bin(x), bin(r), l)\n",
    "\n",
    "    return r, l\n",
    "\n",
    "def checkstate_k_fpga(ser, x, N, k):\n",
    "    r, l = fpga(ser, N, x)\n",
    "\n",
    "    if r != x: # means that not representative\n",
    "        return -1\n",
    "    else:\n",
    "        # if r = x it means that the state is a valid representative, \n",
    "        # and in this case the number of steps to reach it is simply the periodicity\n",
    "        \n",
    "        if k % (N // l) != 0:  return -1 # period not compatible with k\n",
    "        else: return l\n",
    "\n",
    "def representative_k_fpga(ser, x, N, k):\n",
    "    r, l = fpga(ser, N, x)\n",
    "    \n",
    "    # here if r = x and x is the rep, then we get the periodicty and not l = 0\n",
    "    # this allows the fpga output to also be interpreted for checkstate (see comment there)\n",
    "    \n",
    "    if r == x: l = 0 \n",
    "    \n",
    "    return r, l"
   ]
  },
  {
   "cell_type": "markdown",
   "id": "fdccfd1f",
   "metadata": {},
   "source": [
    "### Testing FPGA functions (comparing with non FPGA)\n",
    "This can take some time, consider approx. 1 second per state for the FPGA computation"
   ]
  },
  {
   "cell_type": "code",
   "execution_count": null,
   "id": "755079a0",
   "metadata": {},
   "outputs": [
    {
     "name": "stdout",
     "output_type": "stream",
     "text": [
      "0b111111111101011000000011 0b11111111111101011 0b101011000000011111111111 15 9 -1 -1 0.00035640000000000004 0.028527300000000002\n"
     ]
    },
    {
     "ename": "AssertionError",
     "evalue": "Mismatch in representative: x=0b111111111101011000000011, cpu=0b11111111111101011, fpga=0b101011000000011111111111",
     "output_type": "error",
     "traceback": [
      "\u001b[31m---------------------------------------------------------------------------\u001b[39m",
      "\u001b[31mAssertionError\u001b[39m                            Traceback (most recent call last)",
      "\u001b[36mCell\u001b[39m\u001b[36m \u001b[39m\u001b[32mIn[30]\u001b[39m\u001b[32m, line 18\u001b[39m\n\u001b[32m     14\u001b[39m end_fpga = time_ns()\n\u001b[32m     16\u001b[39m \u001b[38;5;28mprint\u001b[39m(\u001b[38;5;28mbin\u001b[39m(x), \u001b[38;5;28mbin\u001b[39m(r), \u001b[38;5;28mbin\u001b[39m(r_fpga), l, l_fpga, R, R_fpga, (end - start) * \u001b[32m1e-9\u001b[39m, (end_fpga - start_fpga) * \u001b[32m1e-9\u001b[39m)\n\u001b[32m---> \u001b[39m\u001b[32m18\u001b[39m \u001b[38;5;28;01massert\u001b[39;00m r == r_fpga, \u001b[33mf\u001b[39m\u001b[33m\"\u001b[39m\u001b[33mMismatch in representative: x=\u001b[39m\u001b[38;5;132;01m{\u001b[39;00m\u001b[38;5;28mbin\u001b[39m(x)\u001b[38;5;132;01m}\u001b[39;00m\u001b[33m, cpu=\u001b[39m\u001b[38;5;132;01m{\u001b[39;00m\u001b[38;5;28mbin\u001b[39m(r)\u001b[38;5;132;01m}\u001b[39;00m\u001b[33m, fpga=\u001b[39m\u001b[38;5;132;01m{\u001b[39;00m\u001b[38;5;28mbin\u001b[39m(r_fpga)\u001b[38;5;132;01m}\u001b[39;00m\u001b[33m\"\u001b[39m\n\u001b[32m     19\u001b[39m \u001b[38;5;28;01massert\u001b[39;00m l == l_fpga, \u001b[33mf\u001b[39m\u001b[33m\"\u001b[39m\u001b[33mMismatch in number of translations: x=\u001b[39m\u001b[38;5;132;01m{\u001b[39;00m\u001b[38;5;28mbin\u001b[39m(x)\u001b[38;5;132;01m}\u001b[39;00m\u001b[33m, cpu=\u001b[39m\u001b[38;5;132;01m{\u001b[39;00ml\u001b[38;5;132;01m}\u001b[39;00m\u001b[33m, fpga=\u001b[39m\u001b[38;5;132;01m{\u001b[39;00ml_fpga\u001b[38;5;132;01m}\u001b[39;00m\u001b[33m\"\u001b[39m\n\u001b[32m     20\u001b[39m \u001b[38;5;28;01massert\u001b[39;00m R == R_fpga, \u001b[33mf\u001b[39m\u001b[33m\"\u001b[39m\u001b[33mMismatch in state check: x=\u001b[39m\u001b[38;5;132;01m{\u001b[39;00m\u001b[38;5;28mbin\u001b[39m(x)\u001b[38;5;132;01m}\u001b[39;00m\u001b[33m, cpu=\u001b[39m\u001b[38;5;132;01m{\u001b[39;00mR\u001b[38;5;132;01m}\u001b[39;00m\u001b[33m, fpga=\u001b[39m\u001b[38;5;132;01m{\u001b[39;00mR_fpga\u001b[38;5;132;01m}\u001b[39;00m\u001b[33m\"\u001b[39m\n",
      "\u001b[31mAssertionError\u001b[39m: Mismatch in representative: x=0b111111111101011000000011, cpu=0b11111111111101011, fpga=0b101011000000011111111111"
     ]
    }
   ],
   "source": [
    "N = 8\n",
    "k = 0\n",
    "\n",
    "x = random.randint(0, (1 << N) - 1)\n",
    "\n",
    "start = time_ns()\n",
    "r, l = representative_k(x, N, k)\n",
    "R = checkstate_k(x, N, k)\n",
    "end = time_ns()\n",
    "\n",
    "start_fpga = time_ns()\n",
    "r_fpga, l_fpga = representative_k_fpga(ser, x, N, k)\n",
    "R_fpga = checkstate_k_fpga(ser, x, N, k)\n",
    "end_fpga = time_ns()\n",
    "\n",
    "print(bin(x), bin(r), bin(r_fpga), l, l_fpga, R, R_fpga, (end - start) * 1e-9, (end_fpga - start_fpga) * 1e-9)\n",
    "\n",
    "assert r == r_fpga, f\"Mismatch in representative: x={bin(x)}, cpu={bin(r)}, fpga={bin(r_fpga)}\"\n",
    "assert l == l_fpga, f\"Mismatch in number of translations: x={bin(x)}, cpu={l}, fpga={l_fpga}\"\n",
    "assert R == R_fpga, f\"Mismatch in state check: x={bin(x)}, cpu={R}, fpga={R_fpga}\""
   ]
  },
  {
   "cell_type": "markdown",
   "id": "ab9fe0cb",
   "metadata": {},
   "source": [
    "### Generation of Hamiltonian"
   ]
  },
  {
   "cell_type": "code",
   "execution_count": 60,
   "id": "54414c64",
   "metadata": {},
   "outputs": [],
   "source": [
    "def build_basis_mz_k(N, mz, k):\n",
    "    # NOTE: this is not the actual basis but rather the list of the representatives of the basis states, \n",
    "    # which is all we need to build the Hamiltonian !\n",
    "\n",
    "    nup = N // 2 + mz\n",
    "    basis_mz = [x for x in range(1 << N) if sum_bits(x) == nup] # only states with given magnetization\n",
    "    basis, R_list = [], [] # R is the periodicity of the states\n",
    "\n",
    "    for x in basis_mz:\n",
    "        R = checkstate_k(x, N, k)\n",
    "        if R >= 0:\n",
    "            basis.append(x)\n",
    "            R_list.append(R)\n",
    "    \n",
    "    return basis, R_list\n",
    "\n",
    "def hamiltonian_mz_k(N, mz, k):\n",
    "    basis, R_list = build_basis_mz_k(N, mz, k)\n",
    "    M = len(basis) # M ≠ 2 ** N\n",
    "    H = np.zeros((M, M), dtype=complex) # this is complex not !!!\n",
    "\n",
    "    for state_idx in range(M): # looping over all states\n",
    "        state = basis[state_idx]\n",
    "        \n",
    "        for i in range(N): # looping over all spins to flip two adjacent spins\n",
    "            j = (i + 1) % N\n",
    "            \n",
    "            if get_spin(state, i) == get_spin(state, j):\n",
    "                H[state_idx][state_idx] += 0.25\n",
    "            else:\n",
    "                H[state_idx][state_idx] -= 0.25\n",
    "                state_flip = flip(state, i, j) \n",
    "                state_flip_rep, l = representative_k(state_flip, N, k)\n",
    "                state_flip_rep_idx = findstate(basis, state_flip_rep)\n",
    "\n",
    "                if state_flip_rep_idx >= 0:\n",
    "                    h = 0.5 * (R_list[state_idx] / R_list[state_flip_rep_idx]) ** (1/2) * np.exp(1j * k * l * 2 * np.pi / N)\n",
    "                    H[state_idx][state_flip_rep_idx] += h\n",
    "\n",
    "    return H"
   ]
  },
  {
   "cell_type": "code",
   "execution_count": null,
   "id": "6202e682",
   "metadata": {},
   "outputs": [
    {
     "name": "stdout",
     "output_type": "stream",
     "text": [
      "N: 6 mz: 0 k: 0\n",
      "Basis: [7, 11, 13, 21]\n",
      "Basis in bin: [7, 11, 13, 21] 6\n",
      "Periodicities: [6, 6, 6, 2]\n",
      "Basis size: 4\n",
      "Hamiltonian:\n",
      "Eigenvalues: [-2.118 -1.5    0.118  1.5  ]\n"
     ]
    }
   ],
   "source": [
    "N = 8\n",
    "mz = 0 # magnetisation\n",
    "k = 0 # - N / 2 + 1 <= k <= N / 2\n",
    "\n",
    "print(\"N:\", N, \"mz:\", mz, \"k:\", k)\n",
    "\n",
    "basis, periodicities = build_basis_mz_k(N, mz, k)\n",
    "print(\"Basis:\", basis)\n",
    "print(\"Basis in bin:\", basis, N)\n",
    "print(\"Periodicities:\", periodicities)\n",
    "print(\"Basis size:\", len(basis))\n",
    "\n",
    "H = hamiltonian_mz_k(N, mz, k)\n",
    "print(\"Hamiltonian:\")\n",
    "# for row in H:\n",
    "    # print(row)\n",
    "\n",
    "eigenvalues, eigenvectors = np.linalg.eig(H)\n",
    "print(\"Eigenvalues:\", np.real(np.round(np.sort(eigenvalues), 4))) # even if matrix is complex it is hermitian so the eigenvalues are real"
   ]
  },
  {
   "cell_type": "markdown",
   "id": "e53249d8",
   "metadata": {},
   "source": [
    "### Generation of Hamiltonian with FPGA"
   ]
  },
  {
   "cell_type": "code",
   "execution_count": 80,
   "id": "e09ce19f",
   "metadata": {},
   "outputs": [],
   "source": [
    "def build_basis_mz_k_fpga(ser, N, mz, k):\n",
    "    # NOTE: this is not the actual basis but rather the list of the representatives of the basis states, \n",
    "    # which is all we need to build the Hamiltonian !\n",
    "\n",
    "    nup = N // 2 + mz\n",
    "    basis_mz = [x for x in range(1 << N) if sum_bits(x) == nup] # only states with given magnetization\n",
    "    basis, R_list = [], [] # R is the periodicity of the states\n",
    "\n",
    "    for x in basis_mz:\n",
    "        R = checkstate_k_fpga(ser, x, N, k)\n",
    "        if R >= 0:\n",
    "            basis.append(x)\n",
    "            R_list.append(R)\n",
    "    \n",
    "    return basis, R_list\n",
    "\n",
    "def hamiltonian_mz_k_fpga(ser, N, mz, k):\n",
    "    basis, R_list = build_basis_mz_k(N, mz, k)\n",
    "    M = len(basis) # M ≠ 2 ** N\n",
    "    # H = np.zeros((M, M), dtype=complex) # this is complex not !!!\n",
    "    H = lil_matrix((M, M), dtype=complex)\n",
    "\n",
    "    for state_idx in range(M): # looping over all states\n",
    "        state = basis[state_idx]\n",
    "        \n",
    "        for i in range(N): # looping over all spins to flip two adjacent spins\n",
    "            j = (i + 1) % N\n",
    "            \n",
    "            if get_spin(state, i) == get_spin(state, j):\n",
    "                H[state_idx, state_idx] += 0.25\n",
    "            else:\n",
    "                H[state_idx, state_idx] -= 0.25\n",
    "                state_flip = flip(state, i, j) \n",
    "                state_flip_rep, l = representative_k_fpga(ser, state_flip, N, k)\n",
    "                state_flip_rep_idx = findstate(basis, state_flip_rep)\n",
    "\n",
    "                if state_flip_rep_idx >= 0:\n",
    "                    h = 0.5 * (R_list[state_idx] / R_list[state_flip_rep_idx]) ** (1/2) * np.exp(1j * k * l * 2 * np.pi / N)\n",
    "                    H[state_idx, state_flip_rep_idx] += h\n",
    "\n",
    "    return H"
   ]
  },
  {
   "cell_type": "code",
   "execution_count": 81,
   "id": "31bbe9c9",
   "metadata": {},
   "outputs": [
    {
     "name": "stdout",
     "output_type": "stream",
     "text": [
      "N: 8 mz: 0 k: 0\n"
     ]
    },
    {
     "ename": "ZeroDivisionError",
     "evalue": "integer division or modulo by zero",
     "output_type": "error",
     "traceback": [
      "\u001b[31m---------------------------------------------------------------------------\u001b[39m",
      "\u001b[31mZeroDivisionError\u001b[39m                         Traceback (most recent call last)",
      "\u001b[36mCell\u001b[39m\u001b[36m \u001b[39m\u001b[32mIn[81]\u001b[39m\u001b[32m, line 7\u001b[39m\n\u001b[32m      3\u001b[39m k = \u001b[32m0\u001b[39m \u001b[38;5;66;03m# - N / 2 + 1 <= k <= N / 2\u001b[39;00m\n\u001b[32m      5\u001b[39m \u001b[38;5;28mprint\u001b[39m(\u001b[33m\"\u001b[39m\u001b[33mN:\u001b[39m\u001b[33m\"\u001b[39m, N, \u001b[33m\"\u001b[39m\u001b[33mmz:\u001b[39m\u001b[33m\"\u001b[39m, mz, \u001b[33m\"\u001b[39m\u001b[33mk:\u001b[39m\u001b[33m\"\u001b[39m, k)\n\u001b[32m----> \u001b[39m\u001b[32m7\u001b[39m basis, periodicities = \u001b[43mbuild_basis_mz_k_fpga\u001b[49m\u001b[43m(\u001b[49m\u001b[43mser\u001b[49m\u001b[43m,\u001b[49m\u001b[43m \u001b[49m\u001b[43mN\u001b[49m\u001b[43m,\u001b[49m\u001b[43m \u001b[49m\u001b[43mmz\u001b[49m\u001b[43m,\u001b[49m\u001b[43m \u001b[49m\u001b[43mk\u001b[49m\u001b[43m)\u001b[49m\n\u001b[32m      8\u001b[39m \u001b[38;5;28mprint\u001b[39m(\u001b[33m\"\u001b[39m\u001b[33mBasis:\u001b[39m\u001b[33m\"\u001b[39m, basis)\n\u001b[32m      9\u001b[39m \u001b[38;5;28mprint\u001b[39m(\u001b[33m\"\u001b[39m\u001b[33mBasis in bin:\u001b[39m\u001b[33m\"\u001b[39m, basis, N)\n",
      "\u001b[36mCell\u001b[39m\u001b[36m \u001b[39m\u001b[32mIn[80]\u001b[39m\u001b[32m, line 10\u001b[39m, in \u001b[36mbuild_basis_mz_k_fpga\u001b[39m\u001b[34m(ser, N, mz, k)\u001b[39m\n\u001b[32m      7\u001b[39m basis, R_list = [], [] \u001b[38;5;66;03m# R is the periodicity of the states\u001b[39;00m\n\u001b[32m      9\u001b[39m \u001b[38;5;28;01mfor\u001b[39;00m x \u001b[38;5;129;01min\u001b[39;00m basis_mz:\n\u001b[32m---> \u001b[39m\u001b[32m10\u001b[39m     R = \u001b[43mcheckstate_k_fpga\u001b[49m\u001b[43m(\u001b[49m\u001b[43mser\u001b[49m\u001b[43m,\u001b[49m\u001b[43m \u001b[49m\u001b[43mx\u001b[49m\u001b[43m,\u001b[49m\u001b[43m \u001b[49m\u001b[43mN\u001b[49m\u001b[43m,\u001b[49m\u001b[43m \u001b[49m\u001b[43mk\u001b[49m\u001b[43m)\u001b[49m\n\u001b[32m     11\u001b[39m     \u001b[38;5;28;01mif\u001b[39;00m R >= \u001b[32m0\u001b[39m:\n\u001b[32m     12\u001b[39m         basis.append(x)\n",
      "\u001b[36mCell\u001b[39m\u001b[36m \u001b[39m\u001b[32mIn[6]\u001b[39m\u001b[32m, line 28\u001b[39m, in \u001b[36mcheckstate_k_fpga\u001b[39m\u001b[34m(ser, x, N, k)\u001b[39m\n\u001b[32m     23\u001b[39m     \u001b[38;5;28;01mreturn\u001b[39;00m -\u001b[32m1\u001b[39m\n\u001b[32m     24\u001b[39m \u001b[38;5;28;01melse\u001b[39;00m:\n\u001b[32m     25\u001b[39m     \u001b[38;5;66;03m# if r = x it means that the state is a valid representative, \u001b[39;00m\n\u001b[32m     26\u001b[39m     \u001b[38;5;66;03m# and in this case the number of steps to reach it is simply the periodicity\u001b[39;00m\n\u001b[32m---> \u001b[39m\u001b[32m28\u001b[39m     \u001b[38;5;28;01mif\u001b[39;00m k % (\u001b[43mN\u001b[49m\u001b[43m \u001b[49m\u001b[43m/\u001b[49m\u001b[43m/\u001b[49m\u001b[43m \u001b[49m\u001b[43ml\u001b[49m) != \u001b[32m0\u001b[39m:  \u001b[38;5;28;01mreturn\u001b[39;00m -\u001b[32m1\u001b[39m \u001b[38;5;66;03m# period not compatible with k\u001b[39;00m\n\u001b[32m     29\u001b[39m     \u001b[38;5;28;01melse\u001b[39;00m: \u001b[38;5;28;01mreturn\u001b[39;00m l\n",
      "\u001b[31mZeroDivisionError\u001b[39m: integer division or modulo by zero"
     ]
    }
   ],
   "source": [
    "N = 8\n",
    "mz = 0 # magnetisation\n",
    "k = 0 # - N / 2 + 1 <= k <= N / 2\n",
    "\n",
    "print(\"N:\", N, \"mz:\", mz, \"k:\", k)\n",
    "\n",
    "basis, periodicities = build_basis_mz_k_fpga(ser, N, mz, k)\n",
    "print(\"Basis:\", basis)\n",
    "print(\"Basis in bin:\", basis, N)\n",
    "print(\"Periodicities:\", periodicities)\n",
    "print(\"Basis size:\", len(basis))\n",
    "\n",
    "H = hamiltonian_mz_k_fpga(ser, N, mz, k)\n",
    "print(\"Hamiltonian:\")\n",
    "# for row in H:\n",
    "    # print(row)\n",
    "\n",
    "eigenvalues, eigenvectors = np.linalg.eig(H)\n",
    "print(\"Eigenvalues:\", np.real(np.round(np.sort(eigenvalues), 4))) # even if matrix is complex it is hermitian so the eigenvalues are real"
   ]
  },
  {
   "cell_type": "markdown",
   "id": "1473097b",
   "metadata": {},
   "source": [
    "### Comparing time performances of Hamiltonian generation"
   ]
  },
  {
   "cell_type": "code",
   "execution_count": 67,
   "id": "d8055e50",
   "metadata": {},
   "outputs": [
    {
     "name": "stdout",
     "output_type": "stream",
     "text": [
      "Times (ns): [582000, 1637700, 6679700, 17097000, 43318900, 181582700, 1321350900]\n"
     ]
    },
    {
     "data": {
      "text/plain": [
       "[<matplotlib.lines.Line2D at 0x1940f09b9d0>]"
      ]
     },
     "execution_count": 67,
     "metadata": {},
     "output_type": "execute_result"
    },
    {
     "data": {
      "image/png": "[encoded data removed]",
      "text/plain": [
       "<Figure size 640x480 with 1 Axes>"
      ]
     },
     "metadata": {},
     "output_type": "display_data"
    }
   ],
   "source": [
    "mz, k = 0, 0\n",
    "Ns = [6, 8, 10, 12, 14, 16, 18]\n",
    "times = []\n",
    "\n",
    "for N in Ns:\n",
    "    start = time_ns()\n",
    "    hamiltonian_mz_k(N, mz, k)\n",
    "    end = time_ns()\n",
    "    times.append(end - start)\n",
    "\n",
    "print(\"Times (ns):\", times)\n",
    "plt.plot(Ns, times)"
   ]
  },
  {
   "cell_type": "code",
   "execution_count": null,
   "id": "1dc97387",
   "metadata": {},
   "outputs": [],
   "source": [
    "Ns_fpga = [8, 16, 24]\n",
    "times_fpga = []"
   ]
  },
  {
   "cell_type": "code",
   "execution_count": null,
   "id": "edd9bab8",
   "metadata": {},
   "outputs": [
    {
     "name": "stdout",
     "output_type": "stream",
     "text": [
      "Times (ns): [759029000]\n"
     ]
    }
   ],
   "source": [
    "N = Ns_fpga[0]\n",
    "\n",
    "start = time_ns()\n",
    "hamiltonian_mz_k_fpga(ser, N, mz, k)\n",
    "end = time_ns()\n",
    "times_fpga.append(end - start)\n",
    "\n",
    "print(\"Times (ns):\", times_fpga)"
   ]
  },
  {
   "cell_type": "code",
   "execution_count": 77,
   "id": "e167fa70",
   "metadata": {},
   "outputs": [
    {
     "name": "stdout",
     "output_type": "stream",
     "text": [
      "Times (ns): [759029000, 110785486700]\n"
     ]
    }
   ],
   "source": [
    "N = Ns_fpga[1]\n",
    "\n",
    "start = time_ns()\n",
    "hamiltonian_mz_k_fpga(ser, N, mz, k)\n",
    "end = time_ns()\n",
    "times_fpga.append(end - start)\n",
    "\n",
    "print(\"Times (ns):\", times_fpga)"
   ]
  },
  {
   "cell_type": "code",
   "execution_count": 82,
   "id": "73e9cfca",
   "metadata": {},
   "outputs": [
    {
     "ename": "KeyboardInterrupt",
     "evalue": "",
     "output_type": "error",
     "traceback": [
      "\u001b[31m---------------------------------------------------------------------------\u001b[39m",
      "\u001b[31mKeyboardInterrupt\u001b[39m                         Traceback (most recent call last)",
      "\u001b[36mCell\u001b[39m\u001b[36m \u001b[39m\u001b[32mIn[82]\u001b[39m\u001b[32m, line 4\u001b[39m\n\u001b[32m      1\u001b[39m N = \u001b[32m24\u001b[39m\n\u001b[32m      3\u001b[39m start = time_ns()\n\u001b[32m----> \u001b[39m\u001b[32m4\u001b[39m \u001b[43mhamiltonian_mz_k_fpga\u001b[49m\u001b[43m(\u001b[49m\u001b[43mser\u001b[49m\u001b[43m,\u001b[49m\u001b[43m \u001b[49m\u001b[43mN\u001b[49m\u001b[43m,\u001b[49m\u001b[43m \u001b[49m\u001b[43mmz\u001b[49m\u001b[43m,\u001b[49m\u001b[43m \u001b[49m\u001b[43mk\u001b[49m\u001b[43m)\u001b[49m\n\u001b[32m      5\u001b[39m end = time_ns()\n\u001b[32m      6\u001b[39m times_fpga.append(end - start)\n",
      "\u001b[36mCell\u001b[39m\u001b[36m \u001b[39m\u001b[32mIn[80]\u001b[39m\u001b[32m, line 34\u001b[39m, in \u001b[36mhamiltonian_mz_k_fpga\u001b[39m\u001b[34m(ser, N, mz, k)\u001b[39m\n\u001b[32m     32\u001b[39m H[state_idx, state_idx] -= \u001b[32m0.25\u001b[39m\n\u001b[32m     33\u001b[39m state_flip = flip(state, i, j) \n\u001b[32m---> \u001b[39m\u001b[32m34\u001b[39m state_flip_rep, l = \u001b[43mrepresentative_k_fpga\u001b[49m\u001b[43m(\u001b[49m\u001b[43mser\u001b[49m\u001b[43m,\u001b[49m\u001b[43m \u001b[49m\u001b[43mstate_flip\u001b[49m\u001b[43m,\u001b[49m\u001b[43m \u001b[49m\u001b[43mN\u001b[49m\u001b[43m,\u001b[49m\u001b[43m \u001b[49m\u001b[43mk\u001b[49m\u001b[43m)\u001b[49m\n\u001b[32m     35\u001b[39m state_flip_rep_idx = findstate(basis, state_flip_rep)\n\u001b[32m     37\u001b[39m \u001b[38;5;28;01mif\u001b[39;00m state_flip_rep_idx >= \u001b[32m0\u001b[39m:\n",
      "\u001b[36mCell\u001b[39m\u001b[36m \u001b[39m\u001b[32mIn[6]\u001b[39m\u001b[32m, line 32\u001b[39m, in \u001b[36mrepresentative_k_fpga\u001b[39m\u001b[34m(ser, x, N, k)\u001b[39m\n\u001b[32m     31\u001b[39m \u001b[38;5;28;01mdef\u001b[39;00m\u001b[38;5;250m \u001b[39m\u001b[34mrepresentative_k_fpga\u001b[39m(ser, x, N, k):\n\u001b[32m---> \u001b[39m\u001b[32m32\u001b[39m     r, l = \u001b[43mfpga\u001b[49m\u001b[43m(\u001b[49m\u001b[43mser\u001b[49m\u001b[43m,\u001b[49m\u001b[43m \u001b[49m\u001b[43mN\u001b[49m\u001b[43m,\u001b[49m\u001b[43m \u001b[49m\u001b[43mx\u001b[49m\u001b[43m)\u001b[49m\n\u001b[32m     34\u001b[39m     \u001b[38;5;66;03m# here if r = x and x is the rep, then we get the periodicty and not l = 0\u001b[39;00m\n\u001b[32m     35\u001b[39m     \u001b[38;5;66;03m# this allows the fpga output to also be interpreted for checkstate (see comment there)\u001b[39;00m\n\u001b[32m     37\u001b[39m     \u001b[38;5;28;01mif\u001b[39;00m r == x: l = \u001b[32m0\u001b[39m \n",
      "\u001b[36mCell\u001b[39m\u001b[36m \u001b[39m\u001b[32mIn[6]\u001b[39m\u001b[32m, line 13\u001b[39m, in \u001b[36mfpga\u001b[39m\u001b[34m(ser, N, x)\u001b[39m\n\u001b[32m     10\u001b[39m ser.write(msg)\n\u001b[32m     12\u001b[39m \u001b[38;5;66;03m# receive data\u001b[39;00m\n\u001b[32m---> \u001b[39m\u001b[32m13\u001b[39m l = \u001b[38;5;28mint\u001b[39m.from_bytes(\u001b[43mser\u001b[49m\u001b[43m.\u001b[49m\u001b[43mread\u001b[49m\u001b[43m(\u001b[49m\u001b[32;43m1\u001b[39;49m\u001b[43m)\u001b[49m, byteorder=\u001b[33m'\u001b[39m\u001b[33mbig\u001b[39m\u001b[33m'\u001b[39m)\n\u001b[32m     14\u001b[39m r = shift(x, N, l)\n\u001b[32m     15\u001b[39m \u001b[38;5;66;03m# print(bin(x), bin(r), l)\u001b[39;00m\n",
      "\u001b[36mFile \u001b[39m\u001b[32mc:\\Users\\Administrator\\AppData\\Local\\Programs\\Python\\Python313\\Lib\\site-packages\\serial\\serialwin32.py:288\u001b[39m, in \u001b[36mSerial.read\u001b[39m\u001b[34m(self, size)\u001b[39m\n\u001b[32m    286\u001b[39m \u001b[38;5;28;01mif\u001b[39;00m \u001b[38;5;129;01mnot\u001b[39;00m read_ok \u001b[38;5;129;01mand\u001b[39;00m win32.GetLastError() \u001b[38;5;129;01mnot\u001b[39;00m \u001b[38;5;129;01min\u001b[39;00m (win32.ERROR_SUCCESS, win32.ERROR_IO_PENDING):\n\u001b[32m    287\u001b[39m     \u001b[38;5;28;01mraise\u001b[39;00m SerialException(\u001b[33m\"\u001b[39m\u001b[33mReadFile failed (\u001b[39m\u001b[38;5;132;01m{!r}\u001b[39;00m\u001b[33m)\u001b[39m\u001b[33m\"\u001b[39m.format(ctypes.WinError()))\n\u001b[32m--> \u001b[39m\u001b[32m288\u001b[39m result_ok = \u001b[43mwin32\u001b[49m\u001b[43m.\u001b[49m\u001b[43mGetOverlappedResult\u001b[49m\u001b[43m(\u001b[49m\n\u001b[32m    289\u001b[39m \u001b[43m    \u001b[49m\u001b[38;5;28;43mself\u001b[39;49m\u001b[43m.\u001b[49m\u001b[43m_port_handle\u001b[49m\u001b[43m,\u001b[49m\n\u001b[32m    290\u001b[39m \u001b[43m    \u001b[49m\u001b[43mctypes\u001b[49m\u001b[43m.\u001b[49m\u001b[43mbyref\u001b[49m\u001b[43m(\u001b[49m\u001b[38;5;28;43mself\u001b[39;49m\u001b[43m.\u001b[49m\u001b[43m_overlapped_read\u001b[49m\u001b[43m)\u001b[49m\u001b[43m,\u001b[49m\n\u001b[32m    291\u001b[39m \u001b[43m    \u001b[49m\u001b[43mctypes\u001b[49m\u001b[43m.\u001b[49m\u001b[43mbyref\u001b[49m\u001b[43m(\u001b[49m\u001b[43mrc\u001b[49m\u001b[43m)\u001b[49m\u001b[43m,\u001b[49m\n\u001b[32m    292\u001b[39m \u001b[43m    \u001b[49m\u001b[38;5;28;43;01mTrue\u001b[39;49;00m\u001b[43m)\u001b[49m\n\u001b[32m    293\u001b[39m \u001b[38;5;28;01mif\u001b[39;00m \u001b[38;5;129;01mnot\u001b[39;00m result_ok:\n\u001b[32m    294\u001b[39m     \u001b[38;5;28;01mif\u001b[39;00m win32.GetLastError() != win32.ERROR_OPERATION_ABORTED:\n",
      "\u001b[31mKeyboardInterrupt\u001b[39m: "
     ]
    }
   ],
   "source": [
    "N = 24\n",
    "\n",
    "start = time_ns()\n",
    "hamiltonian_mz_k_fpga(ser, N, mz, k)\n",
    "end = time_ns()\n",
    "times_fpga.append(end  - start)\n",
    "\n",
    "print(\"Times (ns):\", times_fpga)"
   ]
  },
  {
   "cell_type": "code",
   "execution_count": 58,
   "id": "fcd8e8e1",
   "metadata": {},
   "outputs": [],
   "source": [
    "ser.close()  # Close the serial port when done"
   ]
  }
 ],
 "metadata": {
  "kernelspec": {
   "display_name": "Python 3",
   "language": "python",
   "name": "python3"
  },
  "language_info": {
   "codemirror_mode": {
    "name": "ipython",
    "version": 3
   },
   "file_extension": ".py",
   "mimetype": "text/x-python",
   "name": "python",
   "nbconvert_exporter": "python",
   "pygments_lexer": "ipython3",
   "version": "3.13.6"
  }
 },
 "nbformat": 4,
 "nbformat_minor": 5
}
