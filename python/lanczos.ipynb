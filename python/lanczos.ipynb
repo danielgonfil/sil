{
 "cells": [
  {
   "cell_type": "code",
   "execution_count": 1,
   "id": "22612cd5",
   "metadata": {},
   "outputs": [
    {
     "name": "stdout",
     "output_type": "stream",
     "text": [
      "0b110111 0b110111 0b110111 0 0 8 8\n"
     ]
    }
   ],
   "source": [
    "%run hamiltonian_mz_k.ipynb"
   ]
  },
  {
   "cell_type": "code",
   "execution_count": 2,
   "id": "051a8115",
   "metadata": {},
   "outputs": [],
   "source": [
    "import numpy as np\n",
    "import matplotlib.pyplot as plt\n",
    "plt.rcParams.update({'font.family': 'serif', 'font.serif': ['Times New Roman']})"
   ]
  },
  {
   "cell_type": "markdown",
   "id": "f004077a",
   "metadata": {},
   "source": [
    "### Lanczos algorithm"
   ]
  },
  {
   "cell_type": "code",
   "execution_count": 5,
   "id": "375d6a58",
   "metadata": {},
   "outputs": [],
   "source": [
    "def lanczos(H, k, v0=None):\n",
    "    # H: symmetric matrix (n x n)\n",
    "    # k: number of Lanczos steps (k <= n)\n",
    "    # v0: initial vector (optional, default random)\n",
    "\n",
    "    n = H.shape[0]\n",
    "    if v0 is None:\n",
    "        v0 = np.random.rand(n)\n",
    "    v0 = v0 / np.linalg.norm(v0)\n",
    "\n",
    "    V = np.zeros((n, k))\n",
    "    alpha = np.zeros(k)\n",
    "    beta = np.zeros(k)\n",
    "\n",
    "    V[:, 0] = v0\n",
    "    w = H @ v0\n",
    "    alpha[0] = np.dot(v0, w)\n",
    "    w = w - alpha[0] * v0\n",
    "\n",
    "    for j in range(1, k):\n",
    "        beta[j-1] = np.linalg.norm(w)\n",
    "        if np.isclose(beta[j-1], 0):\n",
    "            return alpha[:j], beta[:j-1], V[:, :j]\n",
    "        V[:, j] = w / beta[j-1]\n",
    "\n",
    "        w = H @ V[:, j]\n",
    "        alpha[j] = np.dot(V[:, j], w)\n",
    "        w = w - alpha[j] * V[:, j] - beta[j-1] * V[:, j-1]\n",
    "\n",
    "    return alpha, beta[:-1], V\n",
    "\n",
    "def lanczos_diagonalization(H, k):\n",
    "    alpha, beta, V = lanczos(H, k)\n",
    "    T = np.diag(alpha) + np.diag(beta, 1) + np.diag(beta, -1)\n",
    "    eigvals, eigenvecs = np.linalg.eigh(T)\n",
    "\n",
    "    return eigvals"
   ]
  },
  {
   "cell_type": "markdown",
   "id": "c8b16683",
   "metadata": {},
   "source": [
    "### Test of Lanczos on a random (symmetric) matrix"
   ]
  },
  {
   "cell_type": "code",
   "execution_count": null,
   "id": "24c23bf4",
   "metadata": {},
   "outputs": [
    {
     "name": "stdout",
     "output_type": "stream",
     "text": [
      "Approximate eigenvalues: [-6.363e+00 -4.327e-02  4.999e+00  9.943e+01]\n",
      "Exact eigenvalues: [-7.862e+00 -7.674e+00 -7.343e+00 -6.925e+00 -6.896e+00 -6.522e+00\n",
      " -6.464e+00 -6.113e+00 -5.939e+00 -5.800e+00 -5.626e+00 -5.342e+00\n",
      " -5.224e+00 -5.065e+00 -4.932e+00 -4.820e+00 -4.601e+00 -4.264e+00\n",
      " -4.244e+00 -4.133e+00 -3.889e+00 -3.703e+00 -3.495e+00 -3.423e+00\n",
      " -3.270e+00 -3.164e+00 -2.925e+00 -2.830e+00 -2.788e+00 -2.610e+00\n",
      " -2.531e+00 -2.262e+00 -2.083e+00 -1.995e+00 -1.961e+00 -1.715e+00\n",
      " -1.600e+00 -1.312e+00 -1.297e+00 -1.201e+00 -8.450e-01 -7.899e-01\n",
      " -6.479e-01 -5.896e-01 -5.680e-01 -4.216e-01 -2.185e-01 -1.504e-01\n",
      " -8.530e-02  1.396e-01  1.482e-01  3.666e-01  3.944e-01  5.193e-01\n",
      "  7.121e-01  7.679e-01  9.916e-01  1.029e+00  1.224e+00  1.278e+00\n",
      "  1.448e+00  1.586e+00  1.758e+00  1.930e+00  2.084e+00  2.131e+00\n",
      "  2.218e+00  2.350e+00  2.420e+00  2.634e+00  2.818e+00  2.963e+00\n",
      "  3.080e+00  3.214e+00  3.252e+00  3.390e+00  3.444e+00  3.756e+00\n",
      "  3.825e+00  3.881e+00  4.166e+00  4.342e+00  4.473e+00  4.597e+00\n",
      "  4.811e+00  5.003e+00  5.106e+00  5.210e+00  5.492e+00  5.603e+00\n",
      "  5.825e+00  5.982e+00  6.303e+00  6.326e+00  6.559e+00  6.862e+00\n",
      "  7.073e+00  7.564e+00  8.411e+00  9.943e+01]\n",
      "Plot list: [np.float64(75.82378434040535), np.float64(0.5526557321988825), np.float64(-3.6628364564953406), np.float64(-6.181086370682485), np.float64(-6.559381937628989), np.float64(-6.818902833605632), np.float64(-7.113760505717133), np.float64(-7.822751043226481), np.float64(-7.62387863743046), np.float64(-7.655189983354622)]\n"
     ]
    },
    {
     "data": {
      "image/png": "[encoded data removed]",
      "text/plain": [
       "<Figure size 640x480 with 1 Axes>"
      ]
     },
     "metadata": {},
     "output_type": "display_data"
    }
   ],
   "source": [
    "n = 100\n",
    "np.random.seed(0)  \n",
    "H = np.random.random((n, n))\n",
    "H = H + H.T # make it symmetric\n",
    "\n",
    "k = 4 \n",
    "eigvals = lanczos_diagonalization(H, k)\n",
    "\n",
    "print(\"Approximate eigenvalues:\", eigvals)\n",
    "w, v = np.linalg.eigh(H)\n",
    "print(\"Exact eigenvalues:\", w)\n",
    "\n",
    "plot_list = []\n",
    "for k in range(1, 11):\n",
    "    eigvals = lanczos_diagonalization(H, k)\n",
    "    plot_list.append(np.sort(eigvals)[0])\n",
    "\n",
    "print(\"Plot list:\", plot_list)\n",
    "\n",
    "plt.title('Lanczos Method: Ground state energy Convergence')\n",
    "plt.plot([x+1 for x in range(len(plot_list))], plot_list, marker='o')\n",
    "plt.hlines(np.sort(w)[0], xmin=1, xmax=len(plot_list), color='r', linestyle='--', label='Exact Eigenvalue')\n",
    "plt.xlabel('Number of Lanczos Steps')\n",
    "plt.ylabel('Smallest Eigenvalue')\n",
    "plt.legend()\n",
    "plt.show()"
   ]
  },
  {
   "cell_type": "markdown",
   "id": "273ef07f",
   "metadata": {},
   "source": [
    "### Run Lanczos on Hamiltonian"
   ]
  },
  {
   "cell_type": "code",
   "execution_count": null,
   "id": "7bd32f2a",
   "metadata": {},
   "outputs": [],
   "source": [
    "N = 10\n",
    "H = hamiltonian_mz_k(N, mz=0, k=5)\n",
    "\n",
    "plot_list = []\n",
    "for k in range(1, 15):\n",
    "    eigvals = lanczos_diagonalization(H, k)\n",
    "    plot_list.append(np.sort(eigvals)[0])\n",
    "\n",
    "w = np.linalg.eigh(H)[0] # exact eigenvalues\n",
    "\n",
    "# plot\n",
    "plt.title('Lanczos Method: Ground state energy convergence in sector mz=0, k=5 (N=10)')\n",
    "plt.plot([x+1 for x in range(len(plot_list))], plot_list, marker='o', linestyle='--', color='k')\n",
    "plt.hlines(np.sort(w)[0], xmin=1, xmax=len(plot_list), color='r', linestyle='--', label='ground state energy = {:.3f}'.format(np.sort(w)[0]))\n",
    "plt.xlabel('Number of Lanczos Steps')\n",
    "plt.ylabel('Smallest Eigenvalue')\n",
    "plt.legend()\n",
    "# plt.show()\n",
    "plt.savefig('plots/lanczos_mz_k.png', dpi=300, bbox_inches='tight')"
   ]
  }
 ],
 "metadata": {
  "kernelspec": {
   "display_name": "Python 3",
   "language": "python",
   "name": "python3"
  },
  "language_info": {
   "codemirror_mode": {
    "name": "ipython",
    "version": 3
   },
   "file_extension": ".py",
   "mimetype": "text/x-python",
   "name": "python",
   "nbconvert_exporter": "python",
   "pygments_lexer": "ipython3",
   "version": "3.13.6"
  }
 },
 "nbformat": 4,
 "nbformat_minor": 5
}
