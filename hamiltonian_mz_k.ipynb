{
 "cells": [
  {
   "cell_type": "code",
   "execution_count": 5,
   "id": "6ef29426",
   "metadata": {},
   "outputs": [],
   "source": [
    "import serial\n",
    "import numpy as np\n",
    "np.set_printoptions(precision=3)"
   ]
  },
  {
   "cell_type": "code",
   "execution_count": 6,
   "id": "20d1aa53",
   "metadata": {},
   "outputs": [],
   "source": [
    "def flip(x, i, j):\n",
    "    return x ^ ((1 << i) | (1 << j))\n",
    "\n",
    "def get_spin(x, i):\n",
    "    return (x >> i) & 1\n",
    "\n",
    "def shift(x, N, k = 1): # k = number of steps to shift by\n",
    "    return ((x << k) | (x >> (N - k))) & ((1 << N) - 1)\n",
    "\n",
    "\n",
    "def findstate(basis, state):\n",
    "    # can be implemented explicitely using binary search for example\n",
    "    return basis.index(state) if state in basis else -1"
   ]
  },
  {
   "cell_type": "code",
   "execution_count": 8,
   "id": "1a562dea",
   "metadata": {},
   "outputs": [],
   "source": [
    "def checkstate_k(s, N, k):\n",
    "    t = s\n",
    "\n",
    "    for i in range(1, N+1):\n",
    "        t = shift(t, N)\n",
    "        if t < s: return -1 # if a smaller state is found, s is not the representative, return -1\n",
    "        elif t == s: # after i shifts, back to original state\n",
    "            if k % (N // i) != 0:  return -1 # momentum k INcompatible with periodicity i (R = i the periodicity)\n",
    "            else: return i # R = i, compatible with periodicity i\n",
    "    \n",
    "    return -1 # periodicity not compatible with k\n",
    "\n",
    "def representative_k(s, N, k):\n",
    "    # find the representative of the state s, which is the smallest state that can be obtained by translating\n",
    "    r = s\n",
    "    t = s\n",
    "    l = 0\n",
    "    for i in range(1, N+1):\n",
    "        t = shift(t, N)\n",
    "        if t < r: \n",
    "            r = t\n",
    "            l = i\n",
    "    \n",
    "    return r, l # representative, number of translations"
   ]
  },
  {
   "cell_type": "markdown",
   "id": "c0b725c0",
   "metadata": {},
   "source": [
    "### Implementation of FPGA functions"
   ]
  },
  {
   "cell_type": "code",
   "execution_count": null,
   "id": "b9cd8785",
   "metadata": {},
   "outputs": [],
   "source": [
    "def fpga(ser, N, x):\n",
    "    # send state x and receive answer on uart to fpga\n",
    "    \n",
    "    # prepare message\n",
    "    msg = x.to_bytes((N + 7) // 8, byteorder='big') # convert to bytes\n",
    "\n",
    "    # send message\n",
    "    ser.reset_input_buffer()  # Clear the input buffer\n",
    "    ser.reset_output_buffer()  # Clear the output buffer\n",
    "    ser.write(msg)\n",
    "\n",
    "    # receive data\n",
    "    l = int.from_bytes(ser.readline(), byteorder='big')\n",
    "    r = shift(x, N, l)\n",
    "    print(l, bin(r))\n",
    "\n",
    "    return r, l\n",
    "\n",
    "def chekstate_fpga(ser, x, N, k):\n",
    "    r, l = fpga(ser, N, x)\n",
    "\n",
    "    if r != x: # means that not representative\n",
    "        return -1\n",
    "    else:\n",
    "        # if r = x it means that the state is a valid representative, \n",
    "        # and in this case the number of steps to reach it is simply the periodicity\n",
    "        \n",
    "        if k % (N // l) != 0:  return -1 # period not compatible with k\n",
    "        else: return l\n",
    "\n",
    "def representative_fpga(ser, x, N, k):\n",
    "    r, l = fpga(ser, N, x)\n",
    "    \n",
    "    # here if r = x and x is the rep, then we get the periodicty and not l = 0\n",
    "    # this allows the fpga output to also be interpreted for checkstate (see comment there)\n",
    "    \n",
    "    if r == x: l = 0 \n",
    "    \n",
    "    return r, l"
   ]
  },
  {
   "cell_type": "markdown",
   "id": "fdccfd1f",
   "metadata": {},
   "source": [
    "### Testing FPGA functions (comparing with non FPGA)"
   ]
  },
  {
   "cell_type": "code",
   "execution_count": 9,
   "id": "755079a0",
   "metadata": {},
   "outputs": [
    {
     "ename": "SerialException",
     "evalue": "[Errno 2] could not open port COM4: [Errno 2] No such file or directory: 'COM4'",
     "output_type": "error",
     "traceback": [
      "\u001b[0;31m---------------------------------------------------------------------------\u001b[0m",
      "\u001b[0;31mFileNotFoundError\u001b[0m                         Traceback (most recent call last)",
      "File \u001b[0;32m~/Library/Python/3.12/lib/python/site-packages/serial/serialposix.py:322\u001b[0m, in \u001b[0;36mSerial.open\u001b[0;34m(self)\u001b[0m\n\u001b[1;32m    321\u001b[0m \u001b[38;5;28;01mtry\u001b[39;00m:\n\u001b[0;32m--> 322\u001b[0m     \u001b[38;5;28mself\u001b[39m\u001b[38;5;241m.\u001b[39mfd \u001b[38;5;241m=\u001b[39m \u001b[43mos\u001b[49m\u001b[38;5;241;43m.\u001b[39;49m\u001b[43mopen\u001b[49m\u001b[43m(\u001b[49m\u001b[38;5;28;43mself\u001b[39;49m\u001b[38;5;241;43m.\u001b[39;49m\u001b[43mportstr\u001b[49m\u001b[43m,\u001b[49m\u001b[43m \u001b[49m\u001b[43mos\u001b[49m\u001b[38;5;241;43m.\u001b[39;49m\u001b[43mO_RDWR\u001b[49m\u001b[43m \u001b[49m\u001b[38;5;241;43m|\u001b[39;49m\u001b[43m \u001b[49m\u001b[43mos\u001b[49m\u001b[38;5;241;43m.\u001b[39;49m\u001b[43mO_NOCTTY\u001b[49m\u001b[43m \u001b[49m\u001b[38;5;241;43m|\u001b[39;49m\u001b[43m \u001b[49m\u001b[43mos\u001b[49m\u001b[38;5;241;43m.\u001b[39;49m\u001b[43mO_NONBLOCK\u001b[49m\u001b[43m)\u001b[49m\n\u001b[1;32m    323\u001b[0m \u001b[38;5;28;01mexcept\u001b[39;00m \u001b[38;5;167;01mOSError\u001b[39;00m \u001b[38;5;28;01mas\u001b[39;00m msg:\n",
      "\u001b[0;31mFileNotFoundError\u001b[0m: [Errno 2] No such file or directory: 'COM4'",
      "\nDuring handling of the above exception, another exception occurred:\n",
      "\u001b[0;31mSerialException\u001b[0m                           Traceback (most recent call last)",
      "Cell \u001b[0;32mIn[9], line 1\u001b[0m\n\u001b[0;32m----> 1\u001b[0m ser \u001b[38;5;241m=\u001b[39m \u001b[43mserial\u001b[49m\u001b[38;5;241;43m.\u001b[39;49m\u001b[43mSerial\u001b[49m\u001b[43m(\u001b[49m\u001b[38;5;124;43m'\u001b[39;49m\u001b[38;5;124;43mCOM4\u001b[39;49m\u001b[38;5;124;43m'\u001b[39;49m\u001b[43m,\u001b[49m\u001b[43m \u001b[49m\u001b[38;5;241;43m9600\u001b[39;49m\u001b[43m,\u001b[49m\u001b[43m \u001b[49m\u001b[43mtimeout\u001b[49m\u001b[38;5;241;43m=\u001b[39;49m\u001b[38;5;241;43m1\u001b[39;49m\u001b[43m)\u001b[49m\n\u001b[1;32m      3\u001b[0m N \u001b[38;5;241m=\u001b[39m \u001b[38;5;241m16\u001b[39m\n\u001b[1;32m      4\u001b[0m k \u001b[38;5;241m=\u001b[39m \u001b[38;5;241m0\u001b[39m\n",
      "File \u001b[0;32m~/Library/Python/3.12/lib/python/site-packages/serial/serialutil.py:244\u001b[0m, in \u001b[0;36mSerialBase.__init__\u001b[0;34m(self, port, baudrate, bytesize, parity, stopbits, timeout, xonxoff, rtscts, write_timeout, dsrdtr, inter_byte_timeout, exclusive, **kwargs)\u001b[0m\n\u001b[1;32m    241\u001b[0m     \u001b[38;5;28;01mraise\u001b[39;00m \u001b[38;5;167;01mValueError\u001b[39;00m(\u001b[38;5;124m'\u001b[39m\u001b[38;5;124munexpected keyword arguments: \u001b[39m\u001b[38;5;132;01m{!r}\u001b[39;00m\u001b[38;5;124m'\u001b[39m\u001b[38;5;241m.\u001b[39mformat(kwargs))\n\u001b[1;32m    243\u001b[0m \u001b[38;5;28;01mif\u001b[39;00m port \u001b[38;5;129;01mis\u001b[39;00m \u001b[38;5;129;01mnot\u001b[39;00m \u001b[38;5;28;01mNone\u001b[39;00m:\n\u001b[0;32m--> 244\u001b[0m     \u001b[38;5;28;43mself\u001b[39;49m\u001b[38;5;241;43m.\u001b[39;49m\u001b[43mopen\u001b[49m\u001b[43m(\u001b[49m\u001b[43m)\u001b[49m\n",
      "File \u001b[0;32m~/Library/Python/3.12/lib/python/site-packages/serial/serialposix.py:325\u001b[0m, in \u001b[0;36mSerial.open\u001b[0;34m(self)\u001b[0m\n\u001b[1;32m    323\u001b[0m \u001b[38;5;28;01mexcept\u001b[39;00m \u001b[38;5;167;01mOSError\u001b[39;00m \u001b[38;5;28;01mas\u001b[39;00m msg:\n\u001b[1;32m    324\u001b[0m     \u001b[38;5;28mself\u001b[39m\u001b[38;5;241m.\u001b[39mfd \u001b[38;5;241m=\u001b[39m \u001b[38;5;28;01mNone\u001b[39;00m\n\u001b[0;32m--> 325\u001b[0m     \u001b[38;5;28;01mraise\u001b[39;00m SerialException(msg\u001b[38;5;241m.\u001b[39merrno, \u001b[38;5;124m\"\u001b[39m\u001b[38;5;124mcould not open port \u001b[39m\u001b[38;5;132;01m{}\u001b[39;00m\u001b[38;5;124m: \u001b[39m\u001b[38;5;132;01m{}\u001b[39;00m\u001b[38;5;124m\"\u001b[39m\u001b[38;5;241m.\u001b[39mformat(\u001b[38;5;28mself\u001b[39m\u001b[38;5;241m.\u001b[39m_port, msg))\n\u001b[1;32m    326\u001b[0m \u001b[38;5;66;03m#~ fcntl.fcntl(self.fd, fcntl.F_SETFL, 0)  # set blocking\u001b[39;00m\n\u001b[1;32m    328\u001b[0m \u001b[38;5;28mself\u001b[39m\u001b[38;5;241m.\u001b[39mpipe_abort_read_r, \u001b[38;5;28mself\u001b[39m\u001b[38;5;241m.\u001b[39mpipe_abort_read_w \u001b[38;5;241m=\u001b[39m \u001b[38;5;28;01mNone\u001b[39;00m, \u001b[38;5;28;01mNone\u001b[39;00m\n",
      "\u001b[0;31mSerialException\u001b[0m: [Errno 2] could not open port COM4: [Errno 2] No such file or directory: 'COM4'"
     ]
    }
   ],
   "source": [
    "ser = serial.Serial('COM4', 9600, timeout=1)\n",
    "\n",
    "N = 16\n",
    "k = 0\n",
    "\n",
    "for x in range(1 << N):\n",
    "    r, l = representative_k(x, N, k)\n",
    "    R = checkstate_k(x, N, k)\n",
    "\n",
    "    r_fpga, l_fpga = representative_fpga(ser, x, N, k)\n",
    "    R_fpga = chekstate_fpga(ser, x, N, k)\n",
    "\n",
    "    assert r == r_fpga, f\"Mismatch in representative: x={bin(x)}, cpu={bin(r)}, fpga={bin(r_fpga)}\"\n",
    "    assert l == l_fpga, f\"Mismatch in number of translations: x={bin(x)}, cpu={l}, fpga={l_fpga}\"\n",
    "    assert R == R_fpga, f\"Mismatch in state check: x={bin(x)}, cpu={R}, fpga={R_fpga}\""
   ]
  },
  {
   "cell_type": "code",
   "execution_count": null,
   "id": "54414c64",
   "metadata": {},
   "outputs": [],
   "source": []
  }
 ],
 "metadata": {
  "kernelspec": {
   "display_name": "Python 3",
   "language": "python",
   "name": "python3"
  },
  "language_info": {
   "codemirror_mode": {
    "name": "ipython",
    "version": 3
   },
   "file_extension": ".py",
   "mimetype": "text/x-python",
   "name": "python",
   "nbconvert_exporter": "python",
   "pygments_lexer": "ipython3",
   "version": "3.12.0"
  }
 },
 "nbformat": 4,
 "nbformat_minor": 5
}
